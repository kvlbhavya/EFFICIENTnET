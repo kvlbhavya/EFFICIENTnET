{
 "cells": [
  {
   "cell_type": "code",
   "execution_count": 1,
   "id": "1a9fbae1",
   "metadata": {},
   "outputs": [],
   "source": [
    "import numpy as np\n",
    "import tensorflow as tf\n",
    "from tensorflow.keras.models import load_model\n",
    "from tensorflow.keras.preprocessing.image import ImageDataGenerator\n",
    "from sklearn.svm import SVC\n",
    "from sklearn.metrics import classification_report, confusion_matrix\n",
    "import joblib"
   ]
  },
  {
   "cell_type": "code",
   "execution_count": 2,
   "id": "c6fa3d4e",
   "metadata": {},
   "outputs": [],
   "source": [
    "# Load the saved EfficientNet model\n",
    "efficientnet_model_path = r\"C:\\Users\\K M SASTRY\\Desktop\\PROJECT\\efficientnet_model.h5\"\n",
    "efficientnet_model = load_model(efficientnet_model_path)"
   ]
  },
  {
   "cell_type": "code",
   "execution_count": 3,
   "id": "f6434320",
   "metadata": {},
   "outputs": [],
   "source": [
    "# Remove the top classification layer to get features\n",
    "feature_extractor = tf.keras.Model(inputs=efficientnet_model.input, outputs=efficientnet_model.layers[-2].output)\n",
    "\n",
    "# Prepare the data generator for feature extraction\n",
    "data_dir = r\"K:\\PROJECT\\ORGANISED DATASET\"\n",
    "img_height, img_width = 224, 224\n",
    "batch_size = 32\n",
    "\n",
    "datagen = ImageDataGenerator(rescale=1.0 / 255)"
   ]
  },
  {
   "cell_type": "code",
   "execution_count": 4,
   "id": "031d3c9f",
   "metadata": {},
   "outputs": [
    {
     "name": "stdout",
     "output_type": "stream",
     "text": [
      "Found 6185 images belonging to 2 classes.\n",
      "194/194 [==============================] - 224s 1s/step\n",
      "Found 1724 images belonging to 2 classes.\n",
      "54/54 [==============================] - 63s 1s/step\n"
     ]
    }
   ],
   "source": [
    "# Extract features for training\n",
    "train_generator = datagen.flow_from_directory(\n",
    "    directory=f\"{data_dir}/train\",\n",
    "    target_size=(img_height, img_width),\n",
    "    batch_size=batch_size,\n",
    "    class_mode=\"binary\",\n",
    "    shuffle=False,\n",
    ")\n",
    "X_train = feature_extractor.predict(train_generator)\n",
    "y_train = train_generator.classes\n",
    "\n",
    "# Extract features for testing\n",
    "test_generator = datagen.flow_from_directory(\n",
    "    directory=f\"{data_dir}/test\",\n",
    "    target_size=(img_height, img_width),\n",
    "    batch_size=batch_size,\n",
    "    class_mode=\"binary\",\n",
    "    shuffle=False,\n",
    ")\n",
    "X_test = feature_extractor.predict(test_generator)\n",
    "y_test = test_generator.classes"
   ]
  },
  {
   "cell_type": "code",
   "execution_count": 5,
   "id": "eafe6dac",
   "metadata": {},
   "outputs": [],
   "source": [
    "# Reshape the features\n",
    "X_train = X_train.reshape(X_train.shape[0], -1)\n",
    "X_test = X_test.reshape(X_test.shape[0], -1)\n",
    "\n",
    "# Train the SVM classifier\n",
    "svm_clf = SVC(kernel=\"linear\", probability=True)\n",
    "svm_clf.fit(X_train, y_train)\n",
    "\n",
    "# Evaluate the SVM classifier\n",
    "y_pred = svm_clf.predict(X_test)"
   ]
  },
  {
   "cell_type": "code",
   "execution_count": 6,
   "id": "5eaf7718",
   "metadata": {},
   "outputs": [
    {
     "name": "stdout",
     "output_type": "stream",
     "text": [
      "Confusion Matrix:\n",
      "[[   0  542]\n",
      " [   0 1182]]\n",
      "\n",
      "Classification Report:\n",
      "              precision    recall  f1-score   support\n",
      "\n",
      "           0       0.00      0.00      0.00       542\n",
      "           1       0.69      1.00      0.81      1182\n",
      "\n",
      "    accuracy                           0.69      1724\n",
      "   macro avg       0.34      0.50      0.41      1724\n",
      "weighted avg       0.47      0.69      0.56      1724\n",
      "\n"
     ]
    },
    {
     "name": "stderr",
     "output_type": "stream",
     "text": [
      "C:\\Users\\K M SASTRY\\anaconda3\\Lib\\site-packages\\sklearn\\metrics\\_classification.py:1469: UndefinedMetricWarning: Precision and F-score are ill-defined and being set to 0.0 in labels with no predicted samples. Use `zero_division` parameter to control this behavior.\n",
      "  _warn_prf(average, modifier, msg_start, len(result))\n",
      "C:\\Users\\K M SASTRY\\anaconda3\\Lib\\site-packages\\sklearn\\metrics\\_classification.py:1469: UndefinedMetricWarning: Precision and F-score are ill-defined and being set to 0.0 in labels with no predicted samples. Use `zero_division` parameter to control this behavior.\n",
      "  _warn_prf(average, modifier, msg_start, len(result))\n",
      "C:\\Users\\K M SASTRY\\anaconda3\\Lib\\site-packages\\sklearn\\metrics\\_classification.py:1469: UndefinedMetricWarning: Precision and F-score are ill-defined and being set to 0.0 in labels with no predicted samples. Use `zero_division` parameter to control this behavior.\n",
      "  _warn_prf(average, modifier, msg_start, len(result))\n"
     ]
    }
   ],
   "source": [
    "print(\"Confusion Matrix:\")\n",
    "print(confusion_matrix(y_test, y_pred))\n",
    "\n",
    "print(\"\\nClassification Report:\")\n",
    "print(classification_report(y_test, y_pred))"
   ]
  },
  {
   "cell_type": "code",
   "execution_count": null,
   "id": "3647beb1",
   "metadata": {},
   "outputs": [],
   "source": [
    "joblib.dump(svm_clf, r\"C:\\Users\\K M SASTRY\\Desktop\\PROJECT\\eff_svm_classifier.pkl\")\n",
    "print(\"SVM classifier saved successfully.\")"
   ]
  },
  {
   "cell_type": "code",
   "execution_count": null,
   "id": "7d5246a1",
   "metadata": {},
   "outputs": [],
   "source": [
    "from tensorflow.keras.preprocessing import image\n",
    "import numpy as np\n",
    "import matplotlib.pyplot as plt\n",
    "import joblib\n",
    "\n",
    "# Load the trained SVM model\n",
    "svm_clf = joblib.load(r\"C:\\Users\\K M SASTRY\\Desktop\\PROJECT\\eff_svm_classifier.pkl\")\n",
    "\n",
    "# Preprocess the input image\n",
    "def preprocess_image(image_path, target_size):\n",
    "    img = image.load_img(image_path, target_size=target_size)\n",
    "    img_array = image.img_to_array(img)\n",
    "    img_array = np.expand_dims(img_array, axis=0)\n",
    "    img_array = img_array / 255.0  # Normalize the image\n",
    "    return img_array\n",
    "\n",
    "# Path to the input image\n",
    "img_path = r\"K:\\PROJECT\\ORGANISED DATASET\\test\\BENIGN\\fibroadenoma\\SOB_B_F_14-14134\\400X\\SOB_B_F-14-14134-400-021.png\"\n",
    "\n",
    "# Preprocess the image\n",
    "input_image = preprocess_image(img_path, target_size=(224, 224))\n",
    "\n",
    "# Extract features using the CNN feature extractor\n",
    "features = feature_extractor.predict(input_image)\n",
    "features = features.reshape(1, -1)  # Reshape to fit SVM input\n",
    "\n",
    "# Make predictions with the SVM\n",
    "prediction = svm_clf.predict(features)\n",
    "prediction_proba = svm_clf.predict_proba(features)\n",
    "\n",
    "# Decode the predicted label\n",
    "class_indices = train_generator.class_indices\n",
    "class_labels = {v: k for k, v in class_indices.items()}\n",
    "predicted_label = class_labels[prediction[0]]\n",
    "\n",
    "# Format probabilities as percentages\n",
    "prediction_proba_percent = prediction_proba[0] * 100\n",
    "\n",
    "# Display the input image and prediction results\n",
    "plt.imshow(image.load_img(img_path))\n",
    "plt.axis('off')\n",
    "plt.title(f\"Predicted Class: {predicted_label}\\n\"\n",
    "          f\"Probabilities: Benign: {prediction_proba_percent[0]:.2f}%, \"\n",
    "          f\"Malignant: {prediction_proba_percent[1]:.2f}%\")\n",
    "plt.show()\n"
   ]
  }
 ],
 "metadata": {
  "kernelspec": {
   "display_name": "Python 3 (ipykernel)",
   "language": "python",
   "name": "python3"
  },
  "language_info": {
   "codemirror_mode": {
    "name": "ipython",
    "version": 3
   },
   "file_extension": ".py",
   "mimetype": "text/x-python",
   "name": "python",
   "nbconvert_exporter": "python",
   "pygments_lexer": "ipython3",
   "version": "3.11.5"
  }
 },
 "nbformat": 4,
 "nbformat_minor": 5
}
